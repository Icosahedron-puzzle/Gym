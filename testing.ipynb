{
 "cells": [
  {
   "cell_type": "code",
   "execution_count": 239,
   "id": "initial_id",
   "metadata": {
    "collapsed": true,
    "ExecuteTime": {
     "end_time": "2023-09-12T11:46:03.506813267Z",
     "start_time": "2023-09-12T11:46:03.414453781Z"
    }
   },
   "outputs": [],
   "source": [
    "import pandas as pd\n",
    "import numpy as np\n",
    "from datetime import date"
   ]
  },
  {
   "cell_type": "code",
   "execution_count": 542,
   "outputs": [],
   "source": [
    "class Mining:\n",
    "    def __init__(self, data: str):\n",
    "        self.data: str = data\n",
    "        self.raw_df = pd.read_csv(data)\n",
    "        self.df: pd.DataFrame = self.load_csv(data)\n",
    "        # self.filtered_age: pd.DataFrame = \n",
    "        self._sub_types = np.array([\"Both\", \"Phone\", \"Email\", \"Neither\"])\n",
    "        self.sub_df = _\n",
    "        self.sub_status: dict = self._sub_status()\n",
    "        self.contact_list = self._contact_list()\n",
    "                \n",
    "    def __str__(self):\n",
    "        return f\"Mining data class for the Lifetime dataset, '{self.data}'\"\n",
    "    \n",
    "    def __repr__(self):\n",
    "        return f\"Mining(data={self.data})\"\n",
    "\n",
    "    @staticmethod    \n",
    "    def _get_rows(dataframe: pd.DataFrame, sub_type: str) -> pd.DataFrame:\n",
    "        return dataframe.loc[(dataframe[\"Subscribed\"] == sub_type)]\n",
    "    \n",
    "    def load_csv(self, filename: str) -> pd.DataFrame:\n",
    "        df = pd.read_csv(filename)\n",
    "        # df = self.sub_status[\"Both\"].copy()\n",
    "        filtered_age = df[(df[\"MemberAge\"] > 0) & (df[\"MemberAge\"] < 13)]\n",
    "        filtered_final = filtered_age[\n",
    "            (filtered_age.DeliveredEmployee != \"Bryan Hill\") &\n",
    "            (filtered_age.DeliveredEmployee != \"Shane Haberkorn\") &\n",
    "            (filtered_age.DeliveredEmployee != \"Marissa Matthies\") &\n",
    "            (filtered_age.DeliveredEmployee != \"Katherine Delamore\") &\n",
    "            (filtered_age.DeliveredEmployee != \"Steven Pauka\")\n",
    "        ]\n",
    "        return filtered_final\n",
    "        \n",
    "    def unsubscribed(self, sub_type: str) -> pd.DataFrame:\n",
    "        sub_type = str.capitalize(sub_type)\n",
    "        sub_type_df = self.sub_status[sub_type].copy()\n",
    "        return sub_type_df\n",
    "    \n",
    "    def family(self, name: str) -> pd.DataFrame:\n",
    "        return self.df.loc[self.df[\"ParentName\"] == name]\n",
    "        \n",
    "    def _sub_status(self) -> dict:\n",
    "        df = pd.DataFrame(self.df, copy=True)\n",
    "        \n",
    "        df[\"Subscribed\"] = \"Both\"\n",
    "        df.loc[(df[\"MembershipPhone\"] == \"Unsubscribed\") & (df[\"MembershipEmail\"] == \"Unsubscribed\"), \"Subscribed\"] = \"Neither\"\n",
    "        df.loc[(df[\"MembershipPhone\"] != \"Unsubscribed\") & (df[\"MembershipEmail\"] == \"Unsubscribed\"), \"Subscribed\"] = \"Phone\"\n",
    "        df.loc[(df[\"MembershipPhone\"] == \"Unsubscribed\") & (df[\"MembershipEmail\"] != \"Unsubscribed\"), \"Subscribed\"] = \"Email\"\n",
    "        \n",
    "        df[\"Subscribed Cat\"] = pd.factorize(df[\"Subscribed\"])[0]\n",
    "        df_dict: dict = {\n",
    "            \"Both\": self._get_rows(df, \"Both\"),\n",
    "            \"Phone\": self._get_rows(df, \"Phone\"),\n",
    "            \"Email\": self._get_rows(df, \"Email\"),\n",
    "            \"Neither\": self._get_rows(df, \"Neither\")\n",
    "        }\n",
    "        self.sub_df = df\n",
    "        return df_dict\n",
    "    \n",
    "    def _contact_list(self):\n",
    "        df = self.df.iloc[:, :8]\n",
    "        return df\n",
    "\n",
    "    def sub_info(self, sub_type: str):\n",
    "        # TODO: Add more information.\n",
    "        if sub_type in self._sub_types:\n",
    "            return self.sub_status[sub_type].describe() \n",
    "        else:\n",
    "            print(f\"Error: there is no subscription type, '{sub_type}'. You must use one of the following:\\n{self._sub_types}. \")\n",
    "            \n",
    "x = Mining(\"data.csv\")"
   ],
   "metadata": {
    "collapsed": false,
    "ExecuteTime": {
     "end_time": "2023-09-13T01:50:26.671894763Z",
     "start_time": "2023-09-13T01:50:25.577069573Z"
    }
   },
   "id": "bf84298a5436bc5a"
  },
  {
   "cell_type": "code",
   "execution_count": 467,
   "outputs": [],
   "source": [
    "x.contact_list"
   ],
   "metadata": {
    "collapsed": false,
    "ExecuteTime": {
     "end_time": "2023-09-12T17:26:32.439165570Z",
     "start_time": "2023-09-12T17:26:32.165765310Z"
    }
   },
   "id": "555af0508b659050"
  },
  {
   "cell_type": "markdown",
   "source": [
    "# Future Work"
   ],
   "metadata": {
    "collapsed": false
   },
   "id": "98cdcd89c3f4e296"
  },
  {
   "cell_type": "markdown",
   "source": [
    "## Class methods"
   ],
   "metadata": {
    "collapsed": false
   },
   "id": "ff34b12abec5dde3"
  },
  {
   "cell_type": "code",
   "execution_count": null,
   "outputs": [],
   "source": [
    "# TODO: Alter dataframe column datatypes.\n",
    "    # def _correct_dataframe(self):\n",
    "    #     types = np.array([\n",
    "    #         \"str\", \"str\", \"str\", \"int8\", \"date\", \n",
    "    #         \"str\", \"str\", \"str\", \"int64\", \"date\",\n",
    "    #         \"cat\", \"date\", \"cat\", \"str\", \"int64\",\n",
    "    #         \"cat\", \"date\", \"cat\", \"cat\", \"float32\",\n",
    "    #         \"date\", \"date\", \"date\", \"date\", \"date\",\n",
    "    #         \"date\", \"date\", \"int8\", \"boolean\", \"boolean\",\n",
    "    #         \"cat\", \"cat\", \"cat\", \"cat\"\n",
    "    #     ]).T\n",
    "    #     \n",
    "    #     col_names = np.array(self.df.columns)\n",
    "    #     \n",
    "    #     dtype_df = pd.DataFrame([col_names, types]).T\n",
    "    #     for row in dtype_df.values:\n",
    "    #         col_name, col_type = row\n",
    "    #         \n",
    "    #     return\n",
    "    # \n",
    "    # def basic_series(self, column_name: str, series_type: str):\n",
    "    #     series = self.df[column_name]\n",
    "    #     if series_type == \"cat\":\n",
    "    #         cat_arr = get_categories(series)\n",
    "    #         series = pd.Categorical(series, cat_arr[:,0], ordered=False).codes\n",
    "    #        \n",
    "    #     return series.astype(series_type)\n",
    "    # \n",
    "    # def get_categories(self, series: pd.Series) -> np.ndarray:\n",
    "    #     categories = list(series.unique())\n",
    "    #     is_nan = []\n",
    "    #     for cat in categories:\n",
    "    #         try:\n",
    "    #             answer = np.isnan(cat)\n",
    "    #         except TypeError:\n",
    "    #             answer = False\n",
    "    #         is_nan.append(answer)\n",
    "    #     array = np.transpose(np.hstack((categories, is_nan)).reshape(2,len(categories)))\n",
    "    #     return array"
   ],
   "metadata": {
    "collapsed": false
   },
   "id": "d93b2182e0f4aa78"
  },
  {
   "cell_type": "markdown",
   "source": [
    "## Functions"
   ],
   "metadata": {
    "collapsed": false
   },
   "id": "de4a60cf35f252eb"
  },
  {
   "cell_type": "code",
   "execution_count": null,
   "outputs": [],
   "source": [
    "def convert_to_date(string: str):\n",
    "    year, month, day = map(int, string.split(\"-\"))\n",
    "    date_obj = date(year, month, day)\n",
    "    return date_obj\n",
    "\n",
    "def date_series(series: pd.Series, col_name: str):\n",
    "    # series.astype(\"str\")\n",
    "    \n",
    "    temp: list = []\n",
    "    for row in series:\n",
    "        new_row = convert_to_date(row)\n",
    "        temp.append(new_row)\n",
    "    date_series = pd.Series(temp, name=col_name)\n",
    "    return date_series\n",
    "\n",
    "def basic_series(series: pd.Series, series_type: str):\n",
    "    if series_type == \"cat\":\n",
    "        cat_arr = get_categories(series)\n",
    "        series = pd.Categorical(cat_arr[:,0])\n",
    "    return series.astype(series_type)\n",
    "\n",
    "def get_categories(series: pd.Series) -> np.ndarray:\n",
    "    categories = list(series.unique())\n",
    "    is_nan = []\n",
    "    for cat in categories:\n",
    "        try:\n",
    "            answer = np.isnan(cat)\n",
    "        except TypeError:\n",
    "            answer = False\n",
    "        is_nan.append(answer)\n",
    "    array = np.transpose(np.hstack((categories, is_nan)).reshape(2,len(categories)))\n",
    "    return array"
   ],
   "metadata": {
    "collapsed": false
   },
   "id": "fe82dca94dd4e02d"
  },
  {
   "cell_type": "markdown",
   "source": [
    "## Preparation for type casting"
   ],
   "metadata": {
    "collapsed": false
   },
   "id": "ebf27e463af032dc"
  },
  {
   "cell_type": "code",
   "execution_count": 461,
   "outputs": [],
   "source": [
    "types = np.array([\n",
    "    \"str\", \"str\", \"str\", \"int8\", \"date\", \n",
    "    \"str\", \"str\", \"str\", \"int64\", \"date\",\n",
    "    \"cat\", \"date\", \"cat\", \"str\", \"int64\",\n",
    "    \"cat\", \"date\", \"cat\", \"cat\", \"float32\",\n",
    "    \"date\", \"date\", \"date\", \"date\", \"date\",\n",
    "    \"date\", \"date\", \"int8\", \"boolean\", \"boolean\",\n",
    "    \"cat\", \"cat\", \"cat\", \"cat\"\n",
    "]).T\n",
    "col_names = np.array(dtype_df.iloc[:, 0])"
   ],
   "metadata": {
    "collapsed": false,
    "ExecuteTime": {
     "end_time": "2023-09-12T17:10:04.067702671Z",
     "start_time": "2023-09-12T17:10:03.451602453Z"
    }
   },
   "id": "87c9a3130af89c04"
  },
  {
   "cell_type": "code",
   "execution_count": 545,
   "outputs": [
    {
     "data": {
      "text/plain": "array(['MembershipID', 'MemberID', 'MemberName', 'MemberAge',\n       'MemberJoinDate', 'ParentName', 'MembershipPhone',\n       'MembershipEmail', 'PackageID', 'PackageLoadDate',\n       'PackageLoadClub', 'DeliveredDate', 'DeliveredClub',\n       'DeliveredEmployee', 'R_MembershipID', 'Description', 'SaleDate',\n       'SaleClub', 'Product', 'Price', 'AddDate', 'ActivationDate',\n       'HoldBeginDate', 'HoldEndDate', 'CancelRequestDate',\n       'TerminationDate', 'LastUpdatedDate', 'Opportunity', 'Conversion',\n       'Close', 'Club', 'Area', 'RM', 'State Abbreviation'], dtype=object)"
     },
     "execution_count": 545,
     "metadata": {},
     "output_type": "execute_result"
    }
   ],
   "source": [
    "col_names"
   ],
   "metadata": {
    "collapsed": false,
    "ExecuteTime": {
     "end_time": "2023-09-13T02:03:25.522497769Z",
     "start_time": "2023-09-13T02:03:25.453075826Z"
    }
   },
   "id": "fca2c3287d472fb8"
  }
 ],
 "metadata": {
  "kernelspec": {
   "display_name": "Python 3",
   "language": "python",
   "name": "python3"
  },
  "language_info": {
   "codemirror_mode": {
    "name": "ipython",
    "version": 2
   },
   "file_extension": ".py",
   "mimetype": "text/x-python",
   "name": "python",
   "nbconvert_exporter": "python",
   "pygments_lexer": "ipython2",
   "version": "2.7.6"
  }
 },
 "nbformat": 4,
 "nbformat_minor": 5
}
